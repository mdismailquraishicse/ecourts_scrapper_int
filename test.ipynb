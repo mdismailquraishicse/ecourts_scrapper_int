{
 "cells": [
  {
   "cell_type": "code",
   "execution_count": 1,
   "id": "20a96985-bea4-4c2f-b32b-013df2591f47",
   "metadata": {},
   "outputs": [],
   "source": [
    "import re\n",
    "import time\n",
    "import pytesseract\n",
    "from PIL import Image\n",
    "import pandas as pd\n",
    "from datetime import datetime\n",
    "from selenium.webdriver import Chrome\n",
    "from selenium.webdriver.common.by import By\n",
    "from selenium.webdriver.support.ui import Select\n",
    "from selenium.webdriver.support.ui import WebDriverWait\n",
    "from selenium.webdriver.support import expected_conditions as EC\n",
    "from selenium.common.exceptions import NoSuchElementException"
   ]
  },
  {
   "cell_type": "code",
   "execution_count": 2,
   "id": "cc637ace-f5b7-4ec3-9831-5096d3aa22b2",
   "metadata": {},
   "outputs": [],
   "source": [
    "home_page_url= \"https://services.ecourts.gov.in/ecourtindia_v6/\"\n",
    "cause_list_id= \"leftPaneMenuCL\"\n",
    "close_btn_cl_class= \"btn-close\"\n",
    "crn = \"MHAU019999992015\"\n",
    "state_id= \"sess_state_code\"\n",
    "dist_id= \"sess_dist_code\"\n",
    "court_complex_id= \"court_complex_code\"\n",
    "court_name_id= \"CL_court_no\"\n",
    "pop_up_x= \"//button[contains(@class,'btn-close')]\""
   ]
  },
  {
   "cell_type": "code",
   "execution_count": 3,
   "id": "4f2848e7-26b6-4c16-8765-b5a64bfce071",
   "metadata": {},
   "outputs": [],
   "source": [
    "captcha_id= \"captcha_image\"\n",
    "court_name_id= \"CL_court_no\"\n",
    "to_fill_captcha_id= \"cause_list_captcha_code\""
   ]
  },
  {
   "cell_type": "code",
   "execution_count": 4,
   "id": "01025ff4-8bbb-493f-ac7b-6e0608d03d3d",
   "metadata": {},
   "outputs": [],
   "source": [
    "criminal_path= \"//button[@onclick=\\\"submit_causelist('cri')\\\"]\"\n",
    "civil_path= \"//button[@onclick=\\\"submit_causelist('civ')\\\"]\""
   ]
  },
  {
   "cell_type": "code",
   "execution_count": 5,
   "id": "99263313-1ad1-43f5-b21b-1c337dfd29d1",
   "metadata": {},
   "outputs": [],
   "source": [
    "def close_pop_up(driver):\n",
    "    try:\n",
    "        wait = WebDriverWait(driver, 10)\n",
    "        close_btn = wait.until(\n",
    "            EC.element_to_be_clickable(\n",
    "                (By.XPATH, \"//button[contains(@class,'btn-close')]\")\n",
    "            )\n",
    "        )\n",
    "        close_btn.click()\n",
    "        print(\"Popup closed!\")\n",
    "    except Exception as e:\n",
    "        print(\"Close button not clickable:\", e)"
   ]
  },
  {
   "cell_type": "code",
   "execution_count": 6,
   "id": "95e0c1a8-0224-41fc-a7c5-8267c79d6da4",
   "metadata": {},
   "outputs": [],
   "source": [
    "def get_dropdown(driver, id_= \"sess_state_code\", name= \"West Bengal\"):\n",
    "    dropdown = driver.find_element(By.ID, id_)\n",
    "    select= Select(dropdown)\n",
    "    options= select.options\n",
    "    for opt in options:\n",
    "        # print(opt.text, \" --> \", opt.get_attribute(\"value\"))\n",
    "        pass\n",
    "    # select states\n",
    "    select.select_by_visible_text(name)\n",
    "    print(f\"selected {name}\")"
   ]
  },
  {
   "cell_type": "code",
   "execution_count": 7,
   "id": "fc851e6d-c305-43c1-9125-f25608116c6a",
   "metadata": {},
   "outputs": [],
   "source": [
    "def fill_captcha(driver, captcha_id=captcha_id, captcha_to_fill_id= to_fill_captcha_id):\n",
    "    captcha_element= driver.find_element(By.ID, captcha_id)\n",
    "    captcha_element.screenshot(\"captcha.png\")\n",
    "    captcha= Image.open(\"captcha.png\")\n",
    "    captcha_text= pytesseract.image_to_string(captcha).strip()\n",
    "    cleaned_captcha= re.sub(r'[^a-zA-Z0-9]', '', captcha_text)\n",
    "    print(cleaned_captcha)\n",
    "    f_captcha= driver.find_element(By.ID, captcha_to_fill_id)\n",
    "    f_captcha.clear()\n",
    "    f_captcha.send_keys(cleaned_captcha)"
   ]
  },
  {
   "cell_type": "code",
   "execution_count": 8,
   "id": "89f7621b-3924-40ff-81f4-7d0ceeb1a35f",
   "metadata": {},
   "outputs": [],
   "source": [
    "def click_on_button(driver, xpath=criminal_path):\n",
    "    criminal_btn = driver.find_element(By.XPATH, xpath)\n",
    "    criminal_btn.click()\n",
    "    print(\"form submitted successfully!\")"
   ]
  },
  {
   "cell_type": "code",
   "execution_count": 9,
   "id": "0699075b-4fdc-4e80-9b1c-7ae98c8cec5f",
   "metadata": {},
   "outputs": [],
   "source": [
    "def validate_date(date_):\n",
    "    try:\n",
    "        datetime.strptime(date_, \"%d-%m-%Y\")\n",
    "        print(\"date validated successfully!\")\n",
    "        return True\n",
    "    except:\n",
    "        print(\"date format validation failed!\")\n",
    "        raise ValueError(\"Invalid date format, expected DD-MM-YYYY\")"
   ]
  },
  {
   "cell_type": "code",
   "execution_count": 10,
   "id": "7079a948-37e9-45f2-b305-8398957e5d64",
   "metadata": {},
   "outputs": [],
   "source": [
    "def put_causelist_date(driver, date_=None,datefield_id=\"causelist_date\"):\n",
    "    try:\n",
    "        if date_:\n",
    "            date_field= driver.find_element(By.ID, datefield_id)\n",
    "            date_field.clear()\n",
    "            date_field.send_keys(date_)\n",
    "            print(\"cause list date has been filled!\")\n",
    "    except Exception as e:\n",
    "        print(f\"Something went wrong!\")\n",
    "        print(e)"
   ]
  },
  {
   "cell_type": "code",
   "execution_count": 11,
   "id": "390b5ba9-91df-4d79-a87e-61dbc06e31cd",
   "metadata": {},
   "outputs": [],
   "source": [
    "def get_table_content(driver, disp_table=\"dispTable\"):\n",
    "    data_list = []\n",
    "\n",
    "    try:\n",
    "        # Try to locate the table by ID\n",
    "        try:\n",
    "            table = driver.find_element(By.ID, disp_table)\n",
    "        except NoSuchElementException:\n",
    "            print(\"Table unavailable!\")\n",
    "            return \"Table not found\"\n",
    "\n",
    "        # Locate rows (skip first 2 header rows)\n",
    "        rows = table.find_elements(By.TAG_NAME, \"tr\")[2:]\n",
    "\n",
    "        for row in rows:\n",
    "            cols = row.find_elements(By.TAG_NAME, 'td')\n",
    "            if len(cols) >= 4:\n",
    "                sr_no = cols[0].text.strip()\n",
    "\n",
    "                # Extract case number (last line from the cell)\n",
    "                case_text = cols[1].text.strip()\n",
    "                case_number = case_text.split(\"\\n\")[-1]\n",
    "\n",
    "                party_name = cols[2].text.replace(\"\\n\", \" \").strip()\n",
    "                advocate = cols[3].text.strip()\n",
    "\n",
    "                data_list.append({\n",
    "                    \"sr_no\": sr_no,\n",
    "                    \"case_number\": case_number,\n",
    "                    \"party_name\": party_name,\n",
    "                    \"advocate\": advocate\n",
    "                })\n",
    "        df= pd.DataFrame(data_list)\n",
    "        print(df.head())\n",
    "        return df\n",
    "\n",
    "    except Exception as e:\n",
    "        print(\"Error while scraping:\", e)\n",
    "        return None"
   ]
  },
  {
   "cell_type": "code",
   "execution_count": 12,
   "id": "0223669e-ec6c-47e8-abff-6c8eef388904",
   "metadata": {},
   "outputs": [
    {
     "name": "stdout",
     "output_type": "stream",
     "text": [
      "Popup closed!\n",
      "selected West Bengal\n",
      "selected Paschim Bardhaman\n",
      "selected ASANSOL COURT COMPLEX\n",
      "selected 9-Indrani Gupta-CJM\n",
      "3ck7fy\n",
      "date validated successfully!\n",
      "cause list date has been filled!\n",
      "form submitted successfully!\n",
      "  sr_no             case_number  \\\n",
      "0     1   ViewM.V .CASE/31/2023   \n",
      "1     2   ViewM.V .CASE/39/2023   \n",
      "2     3   ViewM.V .CASE/82/2023   \n",
      "3     4  ViewM.V .CASE/191/2023   \n",
      "4     5  ViewM.V .CASE/230/2023   \n",
      "\n",
      "                                      party_name advocate  \n",
      "0       State of West Bengal versus amit kr shaw           \n",
      "1      State of West Bengal versus sachin kr ram           \n",
      "2  State of West Bengal versus BUDDHA CHATTERJEE           \n",
      "3     State of West Bengal versus MANOWAR ANSARI           \n",
      "4       State of West Bengal versus RABIN RAMANI           \n"
     ]
    }
   ],
   "source": [
    "# Initiliaze driver and open homepage\n",
    "date_ = \"21-10-2025\"\n",
    "case_type=\"criminal\"\n",
    "driver= Chrome()\n",
    "driver.get(home_page_url)\n",
    "time.sleep(5)\n",
    "# goto cause list page\n",
    "cause_list= driver.find_element(By.ID, cause_list_id)\n",
    "cause_list.click()\n",
    "time.sleep(2)\n",
    "# close popup in causelist\n",
    "close_pop_up(driver)\n",
    "time.sleep(2)\n",
    "# select state\n",
    "get_dropdown(driver=driver)\n",
    "time.sleep(2)\n",
    "# select district\n",
    "get_dropdown(driver=driver, id_=dist_id, name=\"Paschim Bardhaman\")\n",
    "time.sleep(2)\n",
    "# select court complex\n",
    "get_dropdown(driver=driver, id_=court_complex_id, name=\"ASANSOL COURT COMPLEX\")\n",
    "time.sleep(2)\n",
    "# select court name\n",
    "get_dropdown(driver=driver, id_= court_name_id, name=\"9-Indrani Gupta-CJM\")\n",
    "# fill captcha\n",
    "fill_captcha(driver)\n",
    "time.sleep(2)\n",
    "# fill date\n",
    "validate_date(date_=date_)\n",
    "put_causelist_date(driver, date_=date_)\n",
    "time.sleep(2)\n",
    "# fill captcha\n",
    "if case_type == \"criminal\":\n",
    "    click_on_button(driver, xpath=criminal_path)\n",
    "elif case_type == \"civil\":\n",
    "    click_on_button(driver, xpath=civil_path)\n",
    "time.sleep(2)\n",
    "# get table content\n",
    "df= get_table_content(driver)\n",
    "# close the driver\n",
    "time.sleep(2)\n",
    "driver.quit()"
   ]
  },
  {
   "cell_type": "code",
   "execution_count": 13,
   "id": "792849f7-0154-4cd6-acac-69d963d005ca",
   "metadata": {},
   "outputs": [
    {
     "data": {
      "text/html": [
       "<div>\n",
       "<style scoped>\n",
       "    .dataframe tbody tr th:only-of-type {\n",
       "        vertical-align: middle;\n",
       "    }\n",
       "\n",
       "    .dataframe tbody tr th {\n",
       "        vertical-align: top;\n",
       "    }\n",
       "\n",
       "    .dataframe thead th {\n",
       "        text-align: right;\n",
       "    }\n",
       "</style>\n",
       "<table border=\"1\" class=\"dataframe\">\n",
       "  <thead>\n",
       "    <tr style=\"text-align: right;\">\n",
       "      <th></th>\n",
       "      <th>sr_no</th>\n",
       "      <th>case_number</th>\n",
       "      <th>party_name</th>\n",
       "      <th>advocate</th>\n",
       "    </tr>\n",
       "  </thead>\n",
       "  <tbody>\n",
       "    <tr>\n",
       "      <th>0</th>\n",
       "      <td>1</td>\n",
       "      <td>ViewM.V .CASE/31/2023</td>\n",
       "      <td>State of West Bengal versus amit kr shaw</td>\n",
       "      <td></td>\n",
       "    </tr>\n",
       "    <tr>\n",
       "      <th>1</th>\n",
       "      <td>2</td>\n",
       "      <td>ViewM.V .CASE/39/2023</td>\n",
       "      <td>State of West Bengal versus sachin kr ram</td>\n",
       "      <td></td>\n",
       "    </tr>\n",
       "    <tr>\n",
       "      <th>2</th>\n",
       "      <td>3</td>\n",
       "      <td>ViewM.V .CASE/82/2023</td>\n",
       "      <td>State of West Bengal versus BUDDHA CHATTERJEE</td>\n",
       "      <td></td>\n",
       "    </tr>\n",
       "    <tr>\n",
       "      <th>3</th>\n",
       "      <td>4</td>\n",
       "      <td>ViewM.V .CASE/191/2023</td>\n",
       "      <td>State of West Bengal versus MANOWAR ANSARI</td>\n",
       "      <td></td>\n",
       "    </tr>\n",
       "    <tr>\n",
       "      <th>4</th>\n",
       "      <td>5</td>\n",
       "      <td>ViewM.V .CASE/230/2023</td>\n",
       "      <td>State of West Bengal versus RABIN RAMANI</td>\n",
       "      <td></td>\n",
       "    </tr>\n",
       "  </tbody>\n",
       "</table>\n",
       "</div>"
      ],
      "text/plain": [
       "  sr_no             case_number  \\\n",
       "0     1   ViewM.V .CASE/31/2023   \n",
       "1     2   ViewM.V .CASE/39/2023   \n",
       "2     3   ViewM.V .CASE/82/2023   \n",
       "3     4  ViewM.V .CASE/191/2023   \n",
       "4     5  ViewM.V .CASE/230/2023   \n",
       "\n",
       "                                      party_name advocate  \n",
       "0       State of West Bengal versus amit kr shaw           \n",
       "1      State of West Bengal versus sachin kr ram           \n",
       "2  State of West Bengal versus BUDDHA CHATTERJEE           \n",
       "3     State of West Bengal versus MANOWAR ANSARI           \n",
       "4       State of West Bengal versus RABIN RAMANI           "
      ]
     },
     "execution_count": 13,
     "metadata": {},
     "output_type": "execute_result"
    }
   ],
   "source": [
    "df.head()"
   ]
  },
  {
   "cell_type": "code",
   "execution_count": 14,
   "id": "75d8884c-9385-420d-8385-1a1ffc9351ff",
   "metadata": {},
   "outputs": [],
   "source": [
    "df.to_json(\"cause_list.json\",index=False)"
   ]
  },
  {
   "cell_type": "code",
   "execution_count": null,
   "id": "1d269e18-6adf-4a00-8bee-211b854babab",
   "metadata": {},
   "outputs": [],
   "source": []
  }
 ],
 "metadata": {
  "kernelspec": {
   "display_name": "Python 3 (ipykernel)",
   "language": "python",
   "name": "python3"
  },
  "language_info": {
   "codemirror_mode": {
    "name": "ipython",
    "version": 3
   },
   "file_extension": ".py",
   "mimetype": "text/x-python",
   "name": "python",
   "nbconvert_exporter": "python",
   "pygments_lexer": "ipython3",
   "version": "3.12.3"
  }
 },
 "nbformat": 4,
 "nbformat_minor": 5
}
